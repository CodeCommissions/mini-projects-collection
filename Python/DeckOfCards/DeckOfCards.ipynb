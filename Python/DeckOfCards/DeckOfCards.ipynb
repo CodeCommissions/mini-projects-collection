{
 "cells": [
  {
   "cell_type": "markdown",
   "metadata": {},
   "source": [
    "## Deck of Cards\n",
    "This project builds up several stand-along methods that you might want to use on a deck of cards. Then later, it shows how they can be collected together to make a Class.\n",
    "\n",
    "Hopefully this shows a bit of what `self` \n",
    "is. And why Classes are convenient for collecting related logic together. Esspecially on small projects."
   ]
  },
  {
   "cell_type": "markdown",
   "metadata": {},
   "source": [
    "#### Single Cards\n",
    "Lets represent single cards first. The easiest place to start is with integers. But you'll see why that gets old fast."
   ]
  },
  {
   "cell_type": "code",
   "execution_count": 4,
   "metadata": {},
   "outputs": [
    {
     "name": "stdout",
     "output_type": "stream",
     "text": [
      "What does this card translate to: 2?\n"
     ]
    }
   ],
   "source": [
    "cards = [i for i in range(0,52)]\n",
    "\n",
    "print(f\"What does this card translate to: {cards[2]}?\")"
   ]
  },
  {
   "cell_type": "code",
   "execution_count": 11,
   "metadata": {},
   "outputs": [],
   "source": [
    "def get_suite(cardNumber):\n",
    "    return [\"Hearts\",\"Clubs\",\"Diamonds\",\"Spades\"][int(cardNumber/13)]\n",
    "\n",
    "def get_face_value(cardNumber):    \n",
    "    #13 faces from Ace to King\n",
    "    number = cardNumber % 13 \n",
    "    if(number < 9):\n",
    "        #Cards start at 2, not 0\n",
    "        return str(number+2)\n",
    "    return [\"Ace\",\"King\",\"Queen\",\"Jack\"][12-number]   \n",
    "\n",
    "def get_card_string(cardNumber):\n",
    "    return f\"{get_suite(card)} {get_face_value(card)}\""
   ]
  },
  {
   "cell_type": "code",
   "execution_count": 12,
   "metadata": {},
   "outputs": [
    {
     "name": "stdout",
     "output_type": "stream",
     "text": [
      "Hearts 2\tHearts 3\tHearts 4\tHearts 5\tHearts 6\tHearts 7\tHearts 8\tHearts 9\tHearts 10\tHearts Jack\tHearts Queen\tHearts King\tHearts Ace\tClubs 2\tClubs 3\tClubs 4\tClubs 5\tClubs 6\tClubs 7\tClubs 8\tClubs 9\tClubs 10\tClubs Jack\tClubs Queen\tClubs King\tClubs Ace\tDiamonds 2\tDiamonds 3\tDiamonds 4\tDiamonds 5\tDiamonds 6\tDiamonds 7\tDiamonds 8\tDiamonds 9\tDiamonds 10\tDiamonds Jack\tDiamonds Queen\tDiamonds King\tDiamonds Ace\tSpades 2\tSpades 3\tSpades 4\tSpades 5\tSpades 6\tSpades 7\tSpades 8\tSpades 9\tSpades 10\tSpades Jack\tSpades Queen\tSpades King\tSpades Ace\t"
     ]
    }
   ],
   "source": [
    "for card in cards:\n",
    "    print(get_card_string(card), end = \"\\t\")"
   ]
  },
  {
   "cell_type": "markdown",
   "metadata": {},
   "source": [
    "#### Card Class\n",
    "Hopefully you can see that those methods are *very* specific to cards. So much so that they are useless to anyone not dealing with a single card - and outright dangerous to anyone who doesn't know that the inputs should be from 0 to 51 (you risk index-out-of-bounds errors).\n",
    "\n",
    "To fix this, lets convert what we've done into a single class"
   ]
  },
  {
   "cell_type": "code",
   "execution_count": 17,
   "metadata": {},
   "outputs": [],
   "source": [
    "class Card:\n",
    "    def __init__(self, cardNumber):\n",
    "        self.cardNumber = cardNumber\n",
    "        \n",
    "    def get_face_value(self):\n",
    "        number = self.cardNumber % 13 \n",
    "        if(number < 9):\n",
    "            return str(number+2)\n",
    "        return [\"Ace\",\"King\",\"Queen\",\"Jack\"][12-number]   \n",
    "    \n",
    "    def get_suite(self):\n",
    "        return [\"Hearts\",\"Clubs\",\"Diamonds\",\"Spades\"][int(self.cardNumber/13)]\n",
    "    \n",
    "    def __str__(self):\n",
    "        return f\"{self.get_suite()} {self.get_face_value()}\";"
   ]
  },
  {
   "cell_type": "code",
   "execution_count": 19,
   "metadata": {},
   "outputs": [
    {
     "name": "stdout",
     "output_type": "stream",
     "text": [
      "Hearts 2\tHearts 3\tHearts 4\tHearts 5\tHearts 6\tHearts 7\tHearts 8\tHearts 9\tHearts 10\tHearts Jack\tHearts Queen\tHearts King\tHearts Ace\tClubs 2\tClubs 3\tClubs 4\tClubs 5\tClubs 6\tClubs 7\tClubs 8\tClubs 9\tClubs 10\tClubs Jack\tClubs Queen\tClubs King\tClubs Ace\tDiamonds 2\tDiamonds 3\tDiamonds 4\tDiamonds 5\tDiamonds 6\tDiamonds 7\tDiamonds 8\tDiamonds 9\tDiamonds 10\tDiamonds Jack\tDiamonds Queen\tDiamonds King\tDiamonds Ace\tSpades 2\tSpades 3\tSpades 4\tSpades 5\tSpades 6\tSpades 7\tSpades 8\tSpades 9\tSpades 10\tSpades Jack\tSpades Queen\tSpades King\tSpades Ace\t"
     ]
    }
   ],
   "source": [
    "cards = [Card(i) for i in range(0,52)]\n",
    "for card in cards:\n",
    "    print(str(card), end = \"\\t\")"
   ]
  },
  {
   "cell_type": "markdown",
   "metadata": {},
   "source": [
    "No, this code isn't any shorter, and it doesn't look any simpler. But it is nicely packaged now. Imagine if you had something less trivial than a card... for example a Person class, they would have hundreds of attributes, so not using a class becomes a nightmare. Look at this example of doing the same thing with and without our hypothetical Person class:\n",
    "```python\n",
    "mood = get_mood(\"peter\", is_hungry, is_tired, is_working, last_break_time, upcoming_deadlines)\n",
    "#VS.\n",
    "mood = peter.get_mood()\n",
    "```"
   ]
  },
  {
   "cell_type": "markdown",
   "metadata": {},
   "source": [
    "#### Deck of Cards Class\n",
    "Let's start with a class this time, rather than converting stand-alone methods. We're going to make a deck of cards. Up to now, we've used a simple list of cards. But what if you want to:\n",
    " - Shuffle the cards\n",
    " - Draw a card\n",
    " - Track drawn cards\n",
    " - Peek at the top card\n",
    " - Place a card on the deck\n",
    " - Mix multiple decks into one\n",
    " \n",
    "Doing all of those with list-manipulation methods is possible (and in our class, that's pretty much what we'll be doing). A class just lets us track a whole lot of info in 1 place."
   ]
  },
  {
   "cell_type": "code",
   "execution_count": null,
   "metadata": {},
   "outputs": [],
   "source": []
  }
 ],
 "metadata": {
  "kernelspec": {
   "display_name": "Python 3",
   "language": "python",
   "name": "python3"
  },
  "language_info": {
   "codemirror_mode": {
    "name": "ipython",
    "version": 3
   },
   "file_extension": ".py",
   "mimetype": "text/x-python",
   "name": "python",
   "nbconvert_exporter": "python",
   "pygments_lexer": "ipython3",
   "version": "3.6.5"
  }
 },
 "nbformat": 4,
 "nbformat_minor": 2
}
