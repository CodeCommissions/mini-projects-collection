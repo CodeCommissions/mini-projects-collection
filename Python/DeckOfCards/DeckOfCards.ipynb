{
 "cells": [
  {
   "cell_type": "markdown",
   "metadata": {},
   "source": [
    "## Deck of Cards\n",
    "This project builds up several stand-alone methods that you might want to use on a playing card. Then it shows how they can be collected together to make a `class`. Finally we show how the Card class can be used inside a Deck class.\n",
    "\n",
    "Hopefully this shows a bit of what `self` is. And why classes are convenient for collecting related logic together. Esspecially on larger projects.\n",
    "\n",
    "##### Why a deck of cards?\n",
    "Being a real-world object, it makes things easier to imagine. It's also little more than a convenient wrapper around existing list-logic -- which is *great* because you can ignore algorithmic complications (and focus on what a `class` actually is)"
   ]
  },
  {
   "cell_type": "markdown",
   "metadata": {},
   "source": [
    "#### Single Cards\n",
    "Lets represent single cards first. The easiest place to start is with integers. But you'll see why that gets old fast."
   ]
  },
  {
   "cell_type": "code",
   "execution_count": 1,
   "metadata": {},
   "outputs": [
    {
     "name": "stdout",
     "output_type": "stream",
     "text": [
      "What does this card translate to: 2?\n"
     ]
    }
   ],
   "source": [
    "cards = [i for i in range(0,52)]\n",
    "\n",
    "print(f\"What does this card translate to: {cards[2]}?\")"
   ]
  },
  {
   "cell_type": "code",
   "execution_count": 2,
   "metadata": {},
   "outputs": [],
   "source": [
    "def get_suite(cardNumber):\n",
    "    return [\"Hearts\",\"Clubs\",\"Diamonds\",\"Spades\"][int(cardNumber/13)]\n",
    "\n",
    "def get_face_value(cardNumber):    \n",
    "    #13 faces from Ace to King\n",
    "    number = cardNumber % 13 \n",
    "    if(number < 9):\n",
    "        #Cards start at 2, not 0\n",
    "        return str(number+2)\n",
    "    return [\"Ace\",\"King\",\"Queen\",\"Jack\"][12-number]\n",
    "\n",
    "def get_card_string(cardNumber):\n",
    "    return f\"{get_suite(card)} {get_face_value(card)}\""
   ]
  },
  {
   "cell_type": "code",
   "execution_count": 3,
   "metadata": {},
   "outputs": [
    {
     "name": "stdout",
     "output_type": "stream",
     "text": [
      "Hearts 2\tHearts 3\tHearts 4\tHearts 5\tHearts 6\tHearts 7\tHearts 8\tHearts 9\tHearts 10\tHearts Jack\tHearts Queen\tHearts King\tHearts Ace\tClubs 2\tClubs 3\tClubs 4\tClubs 5\tClubs 6\tClubs 7\tClubs 8\tClubs 9\tClubs 10\tClubs Jack\tClubs Queen\tClubs King\tClubs Ace\tDiamonds 2\tDiamonds 3\tDiamonds 4\tDiamonds 5\tDiamonds 6\tDiamonds 7\tDiamonds 8\tDiamonds 9\tDiamonds 10\tDiamonds Jack\tDiamonds Queen\tDiamonds King\tDiamonds Ace\tSpades 2\tSpades 3\tSpades 4\tSpades 5\tSpades 6\tSpades 7\tSpades 8\tSpades 9\tSpades 10\tSpades Jack\tSpades Queen\tSpades King\tSpades Ace\t"
     ]
    }
   ],
   "source": [
    "for card in cards:\n",
    "    print(get_card_string(card), end = \"\\t\")"
   ]
  },
  {
   "cell_type": "markdown",
   "metadata": {},
   "source": [
    "#### Card Class\n",
    "Hopefully you can see that those methods are *very* specific to cards. So much so that they are useless to anyone not dealing with a single card - and outright dangerous to anyone who doesn't know that the inputs should be from 0 to 51 (you risk index-out-of-bounds errors).\n",
    "\n",
    "To fix this, lets convert what we've done into a single class"
   ]
  },
  {
   "cell_type": "code",
   "execution_count": 4,
   "metadata": {},
   "outputs": [],
   "source": [
    "class Card:\n",
    "    def __init__(self, cardNumber):\n",
    "        self.cardNumber = cardNumber\n",
    "        \n",
    "    def get_face_value(self):\n",
    "        number = self.cardNumber % 13 \n",
    "        if(number < 9):\n",
    "            return str(number+2)\n",
    "        return [\"Ace\",\"King\",\"Queen\",\"Jack\"][12-number]   \n",
    "    \n",
    "    def get_suite(self):\n",
    "        return [\"Hearts\",\"Clubs\",\"Diamonds\",\"Spades\"][int(self.cardNumber/13)]\n",
    "    \n",
    "    def __str__(self):\n",
    "        return f\"{self.get_face_value()} of {self.get_suite()} \";"
   ]
  },
  {
   "cell_type": "code",
   "execution_count": 5,
   "metadata": {},
   "outputs": [
    {
     "name": "stdout",
     "output_type": "stream",
     "text": [
      "2 of Hearts \t3 of Hearts \t4 of Hearts \t5 of Hearts \t6 of Hearts \t7 of Hearts \t8 of Hearts \t9 of Hearts \t10 of Hearts \tJack of Hearts \tQueen of Hearts \tKing of Hearts \tAce of Hearts \t2 of Clubs \t3 of Clubs \t4 of Clubs \t5 of Clubs \t6 of Clubs \t7 of Clubs \t8 of Clubs \t9 of Clubs \t10 of Clubs \tJack of Clubs \tQueen of Clubs \tKing of Clubs \tAce of Clubs \t2 of Diamonds \t3 of Diamonds \t4 of Diamonds \t5 of Diamonds \t6 of Diamonds \t7 of Diamonds \t8 of Diamonds \t9 of Diamonds \t10 of Diamonds \tJack of Diamonds \tQueen of Diamonds \tKing of Diamonds \tAce of Diamonds \t2 of Spades \t3 of Spades \t4 of Spades \t5 of Spades \t6 of Spades \t7 of Spades \t8 of Spades \t9 of Spades \t10 of Spades \tJack of Spades \tQueen of Spades \tKing of Spades \tAce of Spades \t"
     ]
    }
   ],
   "source": [
    "cards = [Card(i) for i in range(0,52)]\n",
    "for card in cards:\n",
    "    print(str(card), end = \"\\t\")"
   ]
  },
  {
   "cell_type": "markdown",
   "metadata": {},
   "source": [
    "No, this code isn't any shorter, and it doesn't look any simpler. But it is nicely packaged now. Imagine if you had something less trivial than a card... for example a Person class, they would have hundreds of attributes, so not using a class becomes a nightmare. Look at this example of doing the same thing with and without our hypothetical Person class:\n",
    "```python\n",
    "mood = get_mood(\"peter\", is_hungry, is_tired, is_working, last_break_time, upcoming_deadlines)\n",
    "#VS.\n",
    "mood = peter.get_mood()\n",
    "```"
   ]
  },
  {
   "cell_type": "markdown",
   "metadata": {},
   "source": [
    "#### Deck of Cards Class\n",
    "Let's start with a class this time (rather than converting a set of stand-alone methods). We're going to make a deck of cards. Up to now, we've used a simple list of cards. But what if you want to:\n",
    " - Shuffle the cards\n",
    " - Draw a card\n",
    " - Peek at the top card\n",
    " - Place a card on the deck\n",
    " - Mix multiple decks into one (homework)\n",
    " - Track drawn cards (homework)\n",
    " - Cut the deck (homework)\n",
    " \n",
    "Doing all of those with list-manipulation methods is possible (and in our class, that's pretty much what we'll be doing). A class just lets us track a whole lot of info in 1 place. For those of you with a bit more Computer Science theory under your belt, you may may have noticed that this is basically a stack with some extra features like `shuffle` and `cut`."
   ]
  },
  {
   "cell_type": "code",
   "execution_count": 6,
   "metadata": {},
   "outputs": [],
   "source": [
    "from random import shuffle\n",
    "class CardDeck:\n",
    "    def __init__(self):\n",
    "        self._cards = [Card(i) for i in range(0,52)]\n",
    "        \n",
    "    def shuffle(self):\n",
    "        shuffle(self._cards)\n",
    "        \n",
    "    def draw_card(self):\n",
    "        return self._cards.pop(0)\n",
    "    \n",
    "    def peek_at_first_card(self):\n",
    "        return self._cards[0]\n",
    "    \n",
    "    def place_card_on_top(self, card):\n",
    "        self._cards.insert(0, card)\n",
    "        \n",
    "    def display_all_cards(self):\n",
    "        for card in self._cards:\n",
    "            print(str(card), end = \"\\t\")"
   ]
  },
  {
   "cell_type": "code",
   "execution_count": 7,
   "metadata": {},
   "outputs": [
    {
     "name": "stdout",
     "output_type": "stream",
     "text": [
      "2 of Hearts \t3 of Hearts \t4 of Hearts \t5 of Hearts \t6 of Hearts \t7 of Hearts \t8 of Hearts \t9 of Hearts \t10 of Hearts \tJack of Hearts \tQueen of Hearts \tKing of Hearts \tAce of Hearts \t2 of Clubs \t3 of Clubs \t4 of Clubs \t5 of Clubs \t6 of Clubs \t7 of Clubs \t8 of Clubs \t9 of Clubs \t10 of Clubs \tJack of Clubs \tQueen of Clubs \tKing of Clubs \tAce of Clubs \t2 of Diamonds \t3 of Diamonds \t4 of Diamonds \t5 of Diamonds \t6 of Diamonds \t7 of Diamonds \t8 of Diamonds \t9 of Diamonds \t10 of Diamonds \tJack of Diamonds \tQueen of Diamonds \tKing of Diamonds \tAce of Diamonds \t2 of Spades \t3 of Spades \t4 of Spades \t5 of Spades \t6 of Spades \t7 of Spades \t8 of Spades \t9 of Spades \t10 of Spades \tJack of Spades \tQueen of Spades \tKing of Spades \tAce of Spades \t\n",
      "\n",
      "\n",
      "King of Diamonds \t2 of Diamonds \t3 of Hearts \t5 of Hearts \t8 of Hearts \tAce of Spades \t10 of Clubs \tJack of Clubs \t9 of Hearts \t10 of Spades \tKing of Hearts \t6 of Hearts \tAce of Diamonds \t7 of Spades \t9 of Spades \t5 of Clubs \tQueen of Spades \t5 of Diamonds \t3 of Spades \t5 of Spades \t10 of Diamonds \t8 of Clubs \t7 of Diamonds \t4 of Clubs \tQueen of Hearts \t8 of Spades \t6 of Spades \t3 of Diamonds \t4 of Hearts \tAce of Clubs \tJack of Diamonds \tAce of Hearts \tKing of Spades \t2 of Spades \t9 of Diamonds \tQueen of Diamonds \t10 of Hearts \t8 of Diamonds \t2 of Hearts \tJack of Hearts \t7 of Hearts \t2 of Clubs \t6 of Diamonds \t4 of Spades \t4 of Diamonds \tJack of Spades \t6 of Clubs \tQueen of Clubs \t7 of Clubs \t3 of Clubs \tKing of Clubs \t9 of Clubs \t"
     ]
    }
   ],
   "source": [
    "my_deck = CardDeck()\n",
    "my_deck.display_all_cards()\n",
    "print(\"\\n\\n\")\n",
    "my_deck.shuffle()\n",
    "my_deck.display_all_cards()"
   ]
  },
  {
   "cell_type": "code",
   "execution_count": 8,
   "metadata": {},
   "outputs": [
    {
     "name": "stdout",
     "output_type": "stream",
     "text": [
      "King of Diamonds \n",
      "King of Diamonds \n",
      "King of Diamonds \n",
      "2 of Diamonds \n"
     ]
    }
   ],
   "source": [
    "print(my_deck.peek_at_first_card())\n",
    "print(my_deck.peek_at_first_card())\n",
    "print(my_deck.draw_card())\n",
    "print(my_deck.peek_at_first_card())"
   ]
  },
  {
   "cell_type": "code",
   "execution_count": 9,
   "metadata": {},
   "outputs": [
    {
     "name": "stdout",
     "output_type": "stream",
     "text": [
      "We drew: 2 of Diamonds \n",
      "Current top card: 3 of Hearts \n",
      "Place in back on the deck...\n",
      "Current top card: 2 of Diamonds \n"
     ]
    }
   ],
   "source": [
    "drawn_card = my_deck.draw_card()\n",
    "print(f\"We drew: {drawn_card}\")\n",
    "print(\"Current top card:\", my_deck.peek_at_first_card())\n",
    "\n",
    "print(\"Place in back on the deck...\")\n",
    "my_deck.place_card_on_top(drawn_card)\n",
    "print(\"Current top card:\", my_deck.peek_at_first_card())"
   ]
  },
  {
   "cell_type": "markdown",
   "metadata": {},
   "source": [
    "#### Homework, plus some setup and hints\n",
    "Here are some homework items:\n",
    " - Extend the constructor, so that you can start with multiple decks. I suggest an optional argument `total_decks`\n",
    " - Add a `cut()` method - it would take the deck, divide in half, and swap the two halves\n",
    "    * A simple cut of `[1,2,3,4,5,6]` would look like this: `[4,5,6,1,2,3]`\n",
    " - Ask yourself: \"what should happen if we `peek` or `draw` from an empty deck?\"\n",
    "    * This is the sort of edge-case question you need to practice finding and asking.\n",
    " - Add an existing deck of cards to your current one. \n",
    "    * This one involves looking at private attributes. One way to make life easier here is by extending `draw_card` so that it returns `None` if the deck is empty."
   ]
  },
  {
   "cell_type": "code",
   "execution_count": 10,
   "metadata": {},
   "outputs": [],
   "source": [
    "from random import shuffle\n",
    "class CardDeck:\n",
    "    def __init__(self, total_decks = 1):\n",
    "        #TODO - add the numbers 0 to 52 to our cards once for every deck requested\n",
    "        self._cards = [Card(i) for i in range(0,52)]\n",
    "        \n",
    "    def shuffle(self):\n",
    "        shuffle(self._cards)\n",
    "                \n",
    "    def cut(self):\n",
    "        #TODO - add deck-cutting logic. As a hint: use slice notation if you can.\n",
    "        pass\n",
    "        \n",
    "    def add_another_deck(self, other_deck):\n",
    "        #TODO - take all the cards out of other_deck, and place them into _cards\n",
    "        pass\n",
    "        \n",
    "    def draw_card(self):\n",
    "        return self._cards.pop(0)\n",
    "    \n",
    "    def peek_at_first_card(self):\n",
    "        return self._cards[0]\n",
    "    \n",
    "    def place_card_on_top(self, card):\n",
    "        self._cards.insert(0, card)\n",
    "        \n",
    "    def display_all_cards(self):\n",
    "        for card in self._cards:\n",
    "            print(str(card), end = \"\\t\")"
   ]
  },
  {
   "cell_type": "markdown",
   "metadata": {},
   "source": [
    "#### A word of caution\n",
    "If you do the `add_another_deck` homework, and you draw from the other deck until it's empty, understand two things:\n",
    " - With a real deck of cards, that's fine, and this is the most realistic representation of that.\n",
    " - In code, the extra deck (even when empty), still exists.\n",
    " - Modifying arguments should only be done sparingly. It can cause unexpected side-effects, if the changes weren't expected.\n",
    "     * It also tends to makes code more brittle and tightly coupled."
   ]
  },
  {
   "cell_type": "code",
   "execution_count": null,
   "metadata": {},
   "outputs": [],
   "source": []
  },
  {
   "cell_type": "code",
   "execution_count": null,
   "metadata": {},
   "outputs": [],
   "source": []
  }
 ],
 "metadata": {
  "kernelspec": {
   "display_name": "Python 3",
   "language": "python",
   "name": "python3"
  },
  "language_info": {
   "codemirror_mode": {
    "name": "ipython",
    "version": 3
   },
   "file_extension": ".py",
   "mimetype": "text/x-python",
   "name": "python",
   "nbconvert_exporter": "python",
   "pygments_lexer": "ipython3",
   "version": "3.6.5"
  }
 },
 "nbformat": 4,
 "nbformat_minor": 2
}
