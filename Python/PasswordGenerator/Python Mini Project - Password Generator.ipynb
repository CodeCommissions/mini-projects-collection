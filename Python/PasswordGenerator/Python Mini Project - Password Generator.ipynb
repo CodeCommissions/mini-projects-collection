{
 "cells": [
  {
   "cell_type": "code",
   "execution_count": 1,
   "metadata": {},
   "outputs": [],
   "source": [
    "import string\n",
    "def get_char_type(char):\n",
    "    if(char in string.digits):\n",
    "        return \"Number\"\n",
    "    if(char in string.ascii_lowercase):\n",
    "        return \"Lower\"\n",
    "    if(char in string.ascii_uppercase):\n",
    "        return \"Upper\"\n",
    "    return \"Special\""
   ]
  },
  {
   "cell_type": "code",
   "execution_count": 2,
   "metadata": {},
   "outputs": [],
   "source": [
    "def get_char_type_count(string):\n",
    "    charCounter = {\"Number\":0, \"Lower\":0, \"Upper\":0, \"Special\":0}\n",
    "    for char in string:\n",
    "        charType = get_char_type(char)\n",
    "        charCounter[charType] += 1\n",
    "    return charCounter"
   ]
  },
  {
   "cell_type": "code",
   "execution_count": 5,
   "metadata": {},
   "outputs": [],
   "source": [
    "def calculate_password_strength(password):\n",
    "    if(len(password) < 8):\n",
    "        return 0\n",
    "    return sum(value > 0 for value in get_char_type_count(password).values())"
   ]
  },
  {
   "cell_type": "code",
   "execution_count": 17,
   "metadata": {},
   "outputs": [
    {
     "name": "stdout",
     "output_type": "stream",
     "text": [
      "waohbygzi\n",
      ")k&$~\\a-h\n",
      "iY,M$Q;}Re\n",
      "aoJ?5H9REn+\n"
     ]
    }
   ],
   "source": [
    "from string import ascii_lowercase, ascii_uppercase, digits, punctuation\n",
    "from random import choice, randint\n",
    "\n",
    "def gen_password(strength):\n",
    "    chars = ascii_lowercase+ascii_uppercase+digits+punctuation\n",
    "    while(True):\n",
    "        password_list = [choice(chars) for i in range(randint(8,10))]\n",
    "        new_password = \"\".join(password_list)\n",
    "        if(calculate_password_strength(new_password) == strength):\n",
    "            return new_password\n",
    "\n",
    "print(gen_password(1))\n",
    "print(gen_password(2))\n",
    "print(gen_password(3))\n",
    "print(gen_password(4))"
   ]
  },
  {
   "cell_type": "code",
   "execution_count": null,
   "metadata": {},
   "outputs": [],
   "source": []
  }
 ],
 "metadata": {
  "kernelspec": {
   "display_name": "Python 3",
   "language": "python",
   "name": "python3"
  },
  "language_info": {
   "codemirror_mode": {
    "name": "ipython",
    "version": 3
   },
   "file_extension": ".py",
   "mimetype": "text/x-python",
   "name": "python",
   "nbconvert_exporter": "python",
   "pygments_lexer": "ipython3",
   "version": "3.6.5"
  }
 },
 "nbformat": 4,
 "nbformat_minor": 2
}
