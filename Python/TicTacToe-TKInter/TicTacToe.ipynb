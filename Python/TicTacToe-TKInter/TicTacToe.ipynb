{
 "cells": [
  {
   "cell_type": "markdown",
   "metadata": {},
   "source": [
    "#### Global Constants\n",
    "These guys ensure we don't have hard-coded values like \"1\" pr \"X\" scattered throughout the project."
   ]
  },
  {
   "cell_type": "code",
   "execution_count": 1,
   "metadata": {},
   "outputs": [],
   "source": [
    "from tkinter import *\n",
    "\n",
    "# GLOBAL CONSTANTS\n",
    "# graphics\n",
    "WINDOW_SIZE = 400 # pixels\n",
    "GRID_LINE_WIDTH = 2 # pixels\n",
    "SYMBOL_WIDTH = WINDOW_SIZE/40 # pixels - adjustable ratio\n",
    "\n",
    "# 0-1 : size of a symbol relative to it's cell\n",
    "# bigger than 1 is too much\n",
    "SYMBOL_SIZE = 0.5\n",
    "\n",
    "X_COLOR = 'dodger blue'\n",
    "O_COLOR = 'tomato'\n",
    "# background color of the 'draw' gameover screen\n",
    "DRAW_SCREEN_COLOR = 'light sea green'\n",
    "GRID_COLOR = 'light grey'\n",
    "BG_COLOR = 'white'\n",
    "\n",
    "# Symbol notation and player types\n",
    "EMPTY = 0\n",
    "X = 1\n",
    "O = 2\n",
    "\n",
    "# gameplay\n",
    "FIRST_PLAYER = X # 1 == X | 2 == O\n",
    "\n",
    "# OTHER\n",
    "CELL_SIZE = WINDOW_SIZE / 3\n",
    "\n",
    "# game states\n",
    "STATE_TITLE_SCREEN = 0\n",
    "STATE_X_TURN = 1\n",
    "STATE_O_TURN = 2\n",
    "STATE_GAME_OVER = 3"
   ]
  },
  {
   "cell_type": "code",
   "execution_count": 8,
   "metadata": {},
   "outputs": [],
   "source": [
    "class Game(Tk):\n",
    "    def __init__(self):\n",
    "        Tk.__init__(self)        "
   ]
  },
  {
   "cell_type": "code",
   "execution_count": null,
   "metadata": {},
   "outputs": [],
   "source": []
  },
  {
   "cell_type": "code",
   "execution_count": 9,
   "metadata": {},
   "outputs": [],
   "source": [
    "g = Game()\n",
    "g.mainloop()"
   ]
  },
  {
   "cell_type": "code",
   "execution_count": null,
   "metadata": {},
   "outputs": [],
   "source": []
  },
  {
   "cell_type": "code",
   "execution_count": null,
   "metadata": {},
   "outputs": [],
   "source": []
  },
  {
   "cell_type": "code",
   "execution_count": null,
   "metadata": {},
   "outputs": [],
   "source": []
  }
 ],
 "metadata": {
  "kernelspec": {
   "display_name": "Python 3",
   "language": "python",
   "name": "python3"
  },
  "language_info": {
   "codemirror_mode": {
    "name": "ipython",
    "version": 3
   },
   "file_extension": ".py",
   "mimetype": "text/x-python",
   "name": "python",
   "nbconvert_exporter": "python",
   "pygments_lexer": "ipython3",
   "version": "3.6.5"
  }
 },
 "nbformat": 4,
 "nbformat_minor": 2
}
